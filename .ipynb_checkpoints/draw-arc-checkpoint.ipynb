{
 "cells": [
  {
   "cell_type": "markdown",
   "id": "a1967c9a",
   "metadata": {},
   "source": [
    "# Instructions\n",
    "To run, simply replace `INPUT_PATH` (the path of the problem json you would like to render), `OUTPUT_PATH` (the filename of the rendered svg), and `PADDING` (how much of a cushion you want between grids)"
   ]
  },
  {
   "cell_type": "code",
   "execution_count": 1,
   "id": "69f8d2e1",
   "metadata": {},
   "outputs": [],
   "source": [
    "import numpy as np\n",
    "import json\n",
    "import matplotlib.pyplot as plt\n",
    "\n",
    "INPUT_PATH = \"arc-datasets/ARCProblemsForExperiments/CleanUp1.json\"\n",
    "OUTPUT_PATH = \"CleanUp1.svg\"\n",
    "PADDING = 1"
   ]
  },
  {
   "cell_type": "code",
   "execution_count": 2,
   "id": "67674d38",
   "metadata": {},
   "outputs": [],
   "source": [
    "color_dict = {\n",
    "    -1: (255, 255, 255),\n",
    "    0: (0, 0, 0), \n",
    "    1: (0, 105, 207),\n",
    "    2: (255, 57, 55),\n",
    "    3: (0, 197, 67),\n",
    "    4: (255, 215, 49),\n",
    "    5: (160, 160, 160),\n",
    "    6: (249, 22, 179),\n",
    "    7: (255, 122, 44),\n",
    "    8: (99, 214, 252),\n",
    "    9: (130, 15, 35)\n",
    "}\n",
    "\n",
    "def convert_row(row):\n",
    "    return list(map(lambda x: color_dict[x], row))\n",
    "\n",
    "def convert_to_color_array(symbolic_list):\n",
    "    rgb_list = list(map(convert_row, symbolic_list))\n",
    "    return np.array(rgb_list)\n",
    "    \n",
    "def display(arr):\n",
    "    #for i in range(len(symbolic_list)):\n",
    "        #plt.plot([-0.5, 9.5],[i + 0.5, i + 0.5], linewidth=1, color=\"white\")\n",
    "    \n",
    "    #for i in range(len(symbolic_list[0])):\n",
    "        #plt.plot([i + 0.5, i + 0.5], [-0.5, 9.5], linewidth=1, color=\"white\")\n",
    "        \n",
    "    # plt.plot(6,2,marker='o', color=\"white\")     \n",
    "    plt.imshow(arr)\n",
    "\n",
    "# display(convert_to_color_array(problem[\"train\"][0][\"input\"]))"
   ]
  },
  {
   "cell_type": "code",
   "execution_count": 3,
   "id": "4a5c77f4",
   "metadata": {},
   "outputs": [],
   "source": [
    "def place_side_by_side_with_padding(one, two, padding=PADDING):\n",
    "    one_width = one.shape[1]\n",
    "    one_height = one.shape[0]\n",
    "    \n",
    "    two_width = two.shape[1]\n",
    "    two_height = two.shape[0]\n",
    "    \n",
    "    combined_image_height = max(one_height, two_height)\n",
    "    combined_image_width = one_width + padding + two_width\n",
    "    \n",
    "    height_midpoint = combined_image_height // 2\n",
    "    \n",
    "    new_arr = np.zeros((combined_image_height, combined_image_width)) - 1\n",
    "    \n",
    "    one_x_start = 0\n",
    "    one_x_end = one_x_start + one_width\n",
    "    two_x_start = one_width + padding\n",
    "    two_x_end = two_x_start + two_width\n",
    "    \n",
    "    one_y_start = height_midpoint - (one_height // 2)\n",
    "    one_y_end = one_y_start + one_height\n",
    "    two_y_start= height_midpoint - (two_height // 2)\n",
    "    two_y_end = two_y_start + two_height\n",
    "    \n",
    "    new_arr[one_y_start:one_y_end,one_x_start:one_x_end] = one\n",
    "    new_arr[two_y_start:two_y_end,two_x_start:two_x_end] = two\n",
    "    \n",
    "    return new_arr, two_x_start"
   ]
  },
  {
   "cell_type": "code",
   "execution_count": 4,
   "id": "a4599e2a",
   "metadata": {},
   "outputs": [],
   "source": [
    "def place_top_to_bottom(arr_list, align_list, padding=PADDING):\n",
    "    combined_image_height = sum([arr.shape[0] for arr in arr_list]) + (len(arr_list) - 1)*padding\n",
    "    combined_image_width = max(align_list) + max([arr.shape[1] - align for arr, align in zip(arr_list, align_list)])\n",
    "    # first term is the left side, second term is the right side\n",
    "    \n",
    "    combined_arr = np.zeros((combined_image_height, combined_image_width)) - 1\n",
    "    \n",
    "    y_start = 0\n",
    "    \n",
    "    for arr, align in zip(arr_list, align_list):\n",
    "        x_start = max(align_list) - align\n",
    "        x_end = x_start + arr.shape[1]\n",
    "        y_end = y_start + arr.shape[0]\n",
    "        combined_arr[y_start:y_end,x_start:x_end] = arr\n",
    "        \n",
    "        y_start = y_end + padding\n",
    "    \n",
    "    return combined_arr"
   ]
  },
  {
   "cell_type": "code",
   "execution_count": 5,
   "id": "d73ecf8c",
   "metadata": {},
   "outputs": [],
   "source": [
    "def make_half_array(problem, t):\n",
    "    image_dict = {}\n",
    "\n",
    "    image_list = []\n",
    "    \n",
    "    for demo in problem[t]:\n",
    "        inp_image = np.array(demo[\"input\"])\n",
    "        out_image = np.array(demo[\"output\"])\n",
    "\n",
    "        new_arr, align = place_side_by_side_with_padding(inp_image, out_image, padding=PADDING)\n",
    "\n",
    "\n",
    "        image_list.append({\"demo\": new_arr, \"align\": align})\n",
    "    \n",
    "    arr_list = [prob[\"demo\"] for prob in image_list]\n",
    "    align_list = [prob[\"align\"] for prob in image_list]\n",
    "\n",
    "    arr = place_top_to_bottom(arr_list, align_list)\n",
    "    display(convert_to_color_array(arr))\n",
    "    \n",
    "    return arr"
   ]
  },
  {
   "cell_type": "code",
   "execution_count": 6,
   "id": "b443bfa5",
   "metadata": {},
   "outputs": [
    {
     "data": {
      "image/png": "[encoded data removed]",
      "text/plain": [
       "<Figure size 432x288 with 1 Axes>"
      ]
     },
     "metadata": {
      "needs_background": "light"
     },
     "output_type": "display_data"
    }
   ],
   "source": [
    "with open(INPUT_PATH) as f:\n",
    "    problem = json.load(f)\n",
    "\n",
    "arr_train = make_half_array(problem, \"train\")\n",
    "arr_test = make_half_array(problem, \"test\")\n",
    "\n",
    "arr, _ = place_side_by_side_with_padding(arr_train, arr_test)\n",
    "display(convert_to_color_array(arr))"
   ]
  },
  {
   "cell_type": "code",
   "execution_count": 7,
   "id": "b02ffa8d",
   "metadata": {},
   "outputs": [
    {
     "data": {
      "image/png": "[encoded data removed]",
      "text/plain": [
       "<Figure size 1152x864 with 1 Axes>"
      ]
     },
     "metadata": {},
     "output_type": "display_data"
    }
   ],
   "source": [
    "import os\n",
    "\n",
    "fig, ax = plt.subplots(nrows=1, ncols=1, figsize=(16, 12))\n",
    "ax.imshow(convert_to_color_array(arr))\n",
    "ax.spines[\"right\"].set_visible(False)\n",
    "ax.spines[\"left\"].set_visible(False)\n",
    "ax.spines[\"bottom\"].set_visible(False)\n",
    "ax.spines[\"top\"].set_visible(False)\n",
    "ax.set_xticks([])\n",
    "ax.set_yticks([])\n",
    "\n",
    "plt.savefig(OUTPUT_PATH)"
   ]
  },
  {
   "cell_type": "code",
   "execution_count": null,
   "id": "87d4000d",
   "metadata": {},
   "outputs": [],
   "source": []
  }
 ],
 "metadata": {
  "kernelspec": {
   "display_name": "Python 3",
   "language": "python",
   "name": "python3"
  },
  "language_info": {
   "codemirror_mode": {
    "name": "ipython",
    "version": 3
   },
   "file_extension": ".py",
   "mimetype": "text/x-python",
   "name": "python",
   "nbconvert_exporter": "python",
   "pygments_lexer": "ipython3",
   "version": "3.8.8"
  }
 },
 "nbformat": 4,
 "nbformat_minor": 5
}
